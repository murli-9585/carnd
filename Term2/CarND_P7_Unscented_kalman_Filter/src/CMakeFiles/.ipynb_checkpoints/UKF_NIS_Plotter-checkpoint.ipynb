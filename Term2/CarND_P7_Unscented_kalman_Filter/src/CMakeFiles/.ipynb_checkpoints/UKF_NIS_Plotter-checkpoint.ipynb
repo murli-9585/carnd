{
 "cells": [
  {
   "cell_type": "code",
   "execution_count": 1,
   "metadata": {
    "collapsed": true
   },
   "outputs": [],
   "source": [
    "import sys\n",
    "import numpy as np\n",
    "import matplotlib\n",
    "import matplotlib.pyplot as plt\n",
    "%matplotlib inline"
   ]
  },
  {
   "cell_type": "code",
   "execution_count": 2,
   "metadata": {
    "collapsed": true
   },
   "outputs": [],
   "source": [
    "matplotlib.rc('text', usetex=True)\n",
    "matplotlib.rcParams['text.latex.preamble'] = [r'\\boldmath']\n",
    "matplotlib.rcParams['axes.linewidth'] = 2\n",
    "\n",
    "matplotlib.rcParams['axes.labelsize'] = 20\n",
    "\n",
    "matplotlib.rcParams['lines.linewidth'] = 2\n",
    "matplotlib.rcParams['lines.markersize'] = 6\n",
    "\n",
    "matplotlib.rcParams['xtick.major.size'] = 6\n",
    "matplotlib.rcParams['xtick.minor.size'] = 4\n",
    "matplotlib.rcParams['xtick.major.width'] = 2\n",
    "matplotlib.rcParams['xtick.minor.width'] = 2\n",
    "matplotlib.rcParams['xtick.labelsize'] = 20\n",
    "matplotlib.rcParams['xtick.minor.pad'] = 10\n",
    "matplotlib.rcParams['xtick.major.pad'] = 10\n",
    "\n",
    "matplotlib.rcParams['ytick.major.size'] = 6\n",
    "matplotlib.rcParams['ytick.minor.size'] = 4\n",
    "matplotlib.rcParams['ytick.major.width'] = 2\n",
    "matplotlib.rcParams['ytick.minor.width'] = 2\n",
    "matplotlib.rcParams['ytick.labelsize'] = 20"
   ]
  },
  {
   "cell_type": "code",
   "execution_count": null,
   "metadata": {
    "collapsed": true
   },
   "outputs": [],
   "source": [
    "# Normalized innovation squared (NIS) data values for radar and laser measurements\n",
    "dataRadar = np.loadtxt( \"NISvals_radar.txt\", usecols=[0], skiprows=1 )\n",
    "dataLaser = np.loadtxt( \"NISvals_laser.txt\", usecols=[0], skiprows=1 )\n",
    "# We skip the first row to cut out the unrealistically high NIS value \n",
    "# from the first measurement.  The Kalman filter has not found its groove yet.\n",
    "\n",
    "nisRadar = np.transpose(dataRadar)\n",
    "nisLaser = np.transpose(dataLaser)\n",
    "nis = [nisRadar, nisLaser]"
   ]
  },
  {
   "cell_type": "code",
   "execution_count": null,
   "metadata": {
    "collapsed": true
   },
   "outputs": [],
   "source": [
    "# This serves as a check on our choice of process noise values.\n",
    "confidence95Radar = 7.82\n",
    "\n",
    "# Laser measurements have 2 degrees of freedom,\n",
    "# so the threshold is different.\n",
    "confidence95Laser = 5.99\n",
    "\n",
    "confidences = np.array([confidence95Radar, confidence95Laser])\n",
    "\n",
    "fig = plt.figure(figsize=(16,8))\n",
    "axes = []\n",
    "# ax.tick_params(which='both',direction='in')\n",
    "# ax.set_xlabel( r'$\\bar{NIS}$' )\n",
    "id = 1\n",
    "for data, confidence in zip(nis, confidences):\n",
    "    subplot = 120 + id\n",
    "    ax = fig.add_subplot(subplot)\n",
    "    axes.append( ax )\n",
    "    ax.tick_params(which='both',direction='in')\n",
    "    ax.set_xlabel( r'$\\textrm{\\textbf{Measurement index}}$', labelpad=10 )\n",
    "    ax.plot( np.arange(0,len(data))\n",
    "        , data\n",
    "        , 'r-'\n",
    "        , label=r'$\\textrm{\\textbf{NIS}}$' )\n",
    "    ax.axhline( y=confidence\n",
    "        , color='b'\n",
    "        , linestyle='-'\n",
    "        , label=r'$\\textrm{\\textbf{95\\% confidence threshold}}$' )\n",
    "    ax.legend( prop={'size':20} )\n",
    "    id += 1\n",
    "\n",
    "# fig.suptitle(r'$\\textrm{\\textbf{NIS values with 95\\% confidence interval}}$',\n",
    "#              fontsize = 20)\n",
    "axes[0].set_title(r'$\\textrm{\\textbf{Radar}}$', fontsize=20)\n",
    "axes[1].set_title(r'$\\textrm{\\textbf{Laser}}$', fontsize=20)\n",
    "\n",
    "# plt.plot( nbarvalsCont\n",
    "#     , vecFRH( nbarvalsCont )\n",
    "#     , 'b-'\n",
    "#     , label=r'$\\textrm{\\textbf{95\\% confidence threshold}}$' )\n",
    "\n",
    "plt.tight_layout()\n",
    "plt.savefig( \"NIS.png\", bbox_inches = 'tight', dpi = 300 )\n",
    "\n",
    "plt.show()"
   ]
  }
 ],
 "metadata": {
  "kernelspec": {
   "display_name": "Python 3",
   "language": "python",
   "name": "python3"
  },
  "language_info": {
   "codemirror_mode": {
    "name": "ipython",
    "version": 3
   },
   "file_extension": ".py",
   "mimetype": "text/x-python",
   "name": "python",
   "nbconvert_exporter": "python",
   "pygments_lexer": "ipython3",
   "version": "3.5.2"
  },
  "widgets": {
   "state": {},
   "version": "1.1.2"
  }
 },
 "nbformat": 4,
 "nbformat_minor": 2
}
